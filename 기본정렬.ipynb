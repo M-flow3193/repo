{
 "metadata": {
  "language_info": {
   "codemirror_mode": {
    "name": "ipython",
    "version": 3
   },
   "file_extension": ".py",
   "mimetype": "text/x-python",
   "name": "python",
   "nbconvert_exporter": "python",
   "pygments_lexer": "ipython3",
   "version": "3.7.3"
  },
  "orig_nbformat": 4,
  "kernelspec": {
   "name": "python3",
   "display_name": "Python 3.7.3 64-bit ('base': conda)"
  },
  "interpreter": {
   "hash": "346a91226ab4d76f9d8cbdd10b385773143bf27e8e0d21c6945aa14179ec2298"
  }
 },
 "nbformat": 4,
 "nbformat_minor": 2,
 "cells": [
  {
   "source": [
    "## 참고 : 공간 복잡도"
   ],
   "cell_type": "markdown",
   "metadata": {}
  },
  {
   "source": [
    "* 알고리즘 계산 복잡도는 다음 두 가지 척도로 표현될 수 있음\n",
    "    * 시간 복잡도 : 얼마나 빠르게 실행되는지\n",
    "    * 공간 복잡도 : 얼마나 많은 저장 공간이 필요한지\n",
    "\n",
    "좋은 알고리즘은 실행 시간도 짧고, 저장 공간도 적게 쓰는 알고리즘\n",
    "* 통상 두개 다를 만족시키기는 어려움\n",
    "    * 시간과 공간은 반비례적 경향이 있음\n",
    "    * 최근 대용량 시스템이 보편화되면서, 공간 복잡도보다는 시간 복잡도가 우선\n",
    "    * 그래서! 알고리즘은 시간복잡도 중심"
   ],
   "cell_type": "markdown",
   "metadata": {}
  },
  {
   "source": [
    "### 공간 복잡도 대략적인 계산은 필요함\n",
    "* 기존 알고리즘 문제는 예전에 공간 복잡도도 고려되어야할 때 만들어진 경우가 많음\n",
    "* 그래서 기존 알고리즘 문제에 시간 복잡도뿐만 아니라, 공간 복잡도 제약 사항이 있는 경우가 있음\n",
    "* 또한, 기존 알고리즘 문제에 영향을 받아서, 면접시에도 공간 복잡도를 묻는 경우도 있음"
   ],
   "cell_type": "markdown",
   "metadata": {}
  },
  {
   "cell_type": "code",
   "execution_count": null,
   "metadata": {},
   "outputs": [],
   "source": [
    "\n"
   ]
  }
 ]
}
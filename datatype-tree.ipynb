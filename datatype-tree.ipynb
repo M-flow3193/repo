{
 "metadata": {
  "language_info": {
   "codemirror_mode": {
    "name": "ipython",
    "version": 3
   },
   "file_extension": ".py",
   "mimetype": "text/x-python",
   "name": "python",
   "nbconvert_exporter": "python",
   "pygments_lexer": "ipython3",
   "version": "3.8.10"
  },
  "orig_nbformat": 2,
  "kernelspec": {
   "name": "python3810jvsc74a57bd0803d48248c8f5199fac4ff6cf452a2cdcacfd476fbabb7c615c8e2be16ca76b5",
   "display_name": "Python 3.8.10 64-bit (windows store)"
  },
  "metadata": {
   "interpreter": {
    "hash": "803d48248c8f5199fac4ff6cf452a2cdcacfd476fbabb7c615c8e2be16ca76b5"
   }
  }
 },
 "nbformat": 4,
 "nbformat_minor": 2,
 "cells": [
  {
   "source": [
    "### 1. 트리 (Tree) 구조\n",
    "- 트리: Node와 Branch를 이용해서, 사이클을 이루지 않도록 구성한 데이터 구조\n",
    "- 실제로 어디에 많이 사용되나? \n",
    "  - 트리 중 이진 트리 (Binary Tree) 형태의 구조로, 탐색(검색) 알고리즘 구현을 위해 많이 사용됨"
   ],
   "cell_type": "markdown",
   "metadata": {}
  },
  {
   "source": [
    "### 2. 알아둘 용어\n",
    "- Node: 트리에서 데이터를 저장하는 기본 요소 (데이터와 다른 연결된 노드에 대한 Branch 정보 포함)\n",
    "- Root Node: 트리 맨 위에 있는 노드\n",
    "- Level: 최상위 노드를 Level 0으로 하였을 때, 하위 Branch로 연결된 노드의 깊이를 나타냄\n",
    "- Parent Node: 어떤 노드의 다음 레벨에 연결된 노드\n",
    "- Child Node: 어떤 노드의 상위 레벨에 연결된 노드\n",
    "- Leaf Node (Terminal Node): Child Node가 하나도 없는 노드\n",
    "- Sibling (Brother Node): 동일한 Parent Node를 가진 노드\n",
    "- Depth: 트리에서 Node가 가질 수 있는 최대 Level\n",
    "<img src=\"http://www.fun-coding.org/00_Images/tree.png\" width=\"600\" />\n"
   ],
   "cell_type": "markdown",
   "metadata": {}
  },
  {
   "source": [
    "### 3. 이진 트리와 이진 탐색 트리 (Binary Search Tree)\n",
    "- 이진 트리: 노드의 최대 Branch가 2인 트리\n",
    "- 이진 탐색 트리 (Binary Search Tree, BST): 이진 트리에 다음과 같은 추가적인 조건이 있는 트리\n",
    "  - 왼쪽 노드는 해당 노드보다 작은 값, 오른쪽 노드는 해당 노드보다 큰 값을 가지고 있음!\n",
    "  \n",
    "<img src=\"https://www.mathwarehouse.com/programming/images/binary-search-tree/binary-search-tree-insertion-animation.gif\" />\n",
    "\n",
    "(출처: https://www.mathwarehouse.com/programming/gifs/binary-search-tree.php#binary-search-tree-insertion-node)  "
   ],
   "cell_type": "markdown",
   "metadata": {}
  },
  {
   "source": [
    "### 4. 자료 구조 이진 탐색 트리의 장점과 주요 용도\n",
    "- 주요 용도: 데이터 검색(탐색) \n",
    "- 장점: 탐색 속도를 개선할 수 있음\n",
    "\n",
    "> 단점은 이진 탐색 트리 알고리즘 이해 후에 살펴보기로 함\n",
    "\n",
    "### 이진트리와 정렬된 배열간의 탐색 비교\n",
    "<img src=\"https://www.mathwarehouse.com/programming/images/binary-search-tree/binary-search-tree-sorted-array-animation.gif\" />\n",
    "\n",
    "(출처: https://www.mathwarehouse.com/programming/gifs/binary-search-tree.php#binary-search-tree-insertion-node)"
   ],
   "cell_type": "markdown",
   "metadata": {}
  },
  {
   "source": [
    "### 5. 파이썬 객체지향 프로그래밍으로 링크드 리스트 구현하기"
   ],
   "cell_type": "markdown",
   "metadata": {}
  },
  {
   "source": [
    "#### 5.1. 노드 클래스 만들기"
   ],
   "cell_type": "markdown",
   "metadata": {}
  },
  {
   "cell_type": "code",
   "execution_count": 3,
   "metadata": {},
   "outputs": [],
   "source": [
    "## 트리 구조를 __init__ 함수로 입력값으로 구조를 생성하는 노드를 생성\n",
    "# Node라는 객체에 값을 넣어라.\n",
    "# 그 객체에는 left, right는 아직 값이 없다.\n",
    "class Node:\n",
    "    def __init__(self, value):\n",
    "        self.value = value\n",
    "        self.left = None\n",
    "        self.right = None        "
   ]
  },
  {
   "source": [
    "#### 5.2. 이진 탐색 트리에 데이터 넣기\n",
    "* 이진 탐색 트리 조건에 부합하게 데이터를 넣어야 함"
   ],
   "cell_type": "markdown",
   "metadata": {}
  },
  {
   "cell_type": "code",
   "execution_count": 4,
   "metadata": {},
   "outputs": [],
   "source": [
    "## 노드를 매니징하는 객체값을 만들기\n",
    "class NodeMgmt:\n",
    "    ## self라는 객체에 head값을 넣어라\n",
    "    def __init__(self, head):\n",
    "        self.head = head\n",
    "    ## self라는 객체에 값을 넣어라.\n",
    "    def insert(self, value):\n",
    "    ## 생성된 head 값을 현재의 current_node에 넣은 후에\n",
    "    ## value 값을 비교해보자, 앞선 객체에서 head에는 value를 가지고 있다. \n",
    "        self.current_node = self.head\n",
    "        # head의 value 값은 현재 노드값이다. \n",
    "        # 거기서 현재 삽입한 값과 현재 노드값을 비교해보자.\n",
    "        while True:\n",
    "            # 삽입한 값이 현재 노드의 값보다 작을 경우\n",
    "            # 트리 생성법에 따라 왼쪽 값에 아무것도 없으면\n",
    "            if value < self.current_node.value:\n",
    "                if self.current_node.left != None:\n",
    "                    # self.head와 self.current_node는 동일 그 상태보존\n",
    "                    self.current_node = self.current_node.left\n",
    "                else:\n",
    "                    self.current_node.left = Node(value)\n",
    "                    break\n",
    "            # 삽입한 값이 현재 노드의 값보다 클 경우\n",
    "            # 트리 생성법에 따라 오른쪽 값에 아무것도 없으면\n",
    "            else:\n",
    "                if self.current_node.right != None:\n",
    "                    self.current_node = self.current_node.right\n",
    "                ## 오른쪽 값이 있으면 그 값을 노드에 추가한다.\n",
    "                else:\n",
    "                    self.current_node.right = Node(value)\n",
    "                    break"
   ]
  },
  {
   "cell_type": "code",
   "execution_count": 5,
   "metadata": {},
   "outputs": [],
   "source": [
    "head = Node(1)\n",
    "BST = NodeMgmt(head)"
   ]
  },
  {
   "cell_type": "code",
   "execution_count": 6,
   "metadata": {},
   "outputs": [],
   "source": [
    "BST.insert(2)"
   ]
  },
  {
   "source": [
    "#### 5.3 이진 탐색 트리 탐색"
   ],
   "cell_type": "markdown",
   "metadata": {}
  },
  {
   "cell_type": "code",
   "execution_count": 7,
   "metadata": {},
   "outputs": [],
   "source": [
    "class NodeMgmt:\n",
    "    def __init__(self, head):\n",
    "        self.head = head\n",
    "    \n",
    "    def insert(self, value):\n",
    "        self.current_node = self.head\n",
    "        while True:\n",
    "            if value < self.current_node.value:\n",
    "                if self.current_node.left != None:\n",
    "                    self.current_node = self.current_node.left\n",
    "                else:\n",
    "                    self.current_node.left = Node(value)\n",
    "                    break\n",
    "            else:\n",
    "                if self.current_node.right != None:\n",
    "                    self.current_node = self.current_node.right\n",
    "                else:\n",
    "                    self.current_node.right = Node(value)\n",
    "                    break\n",
    "    def search(self, value):\n",
    "        self.current_node = self.head\n",
    "        while self.current_node:\n",
    "            if self.current_node.value == value:\n",
    "                return True\n",
    "            elif value < self.current_node.value:\n",
    "                self.current_node =self.current_node.left\n",
    "            else:\n",
    "                self.current_node = self.current_node.right\n",
    "        return False"
   ]
  },
  {
   "cell_type": "code",
   "execution_count": 8,
   "metadata": {},
   "outputs": [],
   "source": [
    "head = Node(1)\n",
    "BST = NodeMgmt(head)\n",
    "BST.insert(2)\n",
    "BST.insert(3)\n",
    "BST.insert(0)\n",
    "BST.insert(4)\n",
    "BST.insert(8)"
   ]
  },
  {
   "cell_type": "code",
   "execution_count": 9,
   "metadata": {},
   "outputs": [
    {
     "output_type": "execute_result",
     "data": {
      "text/plain": [
       "False"
      ]
     },
     "metadata": {},
     "execution_count": 9
    }
   ],
   "source": [
    "BST.search(-1)"
   ]
  },
  {
   "source": [
    "#### 5.4. 이진 탐색 트리 삭제\n",
    "* 매우 복잡함. 경우를 나누어서 이해하는 것이 좋음"
   ],
   "cell_type": "markdown",
   "metadata": {}
  },
  {
   "source": [
    "#### 5.4. 이진 탐색 트리 삭제 \n",
    "* 매우 복잡함. **경우를 나누어서 이해하는 것이 좋음**\n",
    "\n",
    "#### 5.4.1. Leaf Node 삭제 \n",
    "* Leaf Node: Child Node 가 없는 Node\n",
    "* 삭제할 Node의 Parent Node가 삭제할 Node를 가리키지 않도록 한다. \n",
    "<img src=\"http://www.fun-coding.org/00_Images/tree_remove_leaf.png\" width=\"800\" />\n",
    "\n",
    "#### 5.4.2. Child Node 가 하나인 Node 삭제 \n",
    "* 삭제할 Node의 Parent Node가 삭제할 Node의 Child Node를 가리키도록 한다.\n",
    "<img src=\"http://www.fun-coding.org/00_Images/tree_remove_1child.png\" width=\"800\" />\n",
    "\n",
    "#### 5.4.3. Child Node 가 두 개인 Node 삭제\n",
    "1. **삭제할 Node의 오른쪽 자식 중, 가장 작은 값을 삭제할 Node의 Parent Node가 가리키도록 한다.**\n",
    "2. 삭제할 Node의 왼쪽 자식 중, 가장 큰 값을 삭제할 Node의 Parent Node가 가리키도록 한다.\n",
    "<img src=\"http://www.fun-coding.org/00_Images/tree_remove_2child.png\" width=\"800\" />\n",
    "\n",
    "##### 5.4.3.1. 삭제할 Node의 오른쪽 자식중, 가장 작은 값을 삭제할 Node의 Parent Node가 가리키게 할 경우\n",
    "- 삭제할 Node의 오른쪽 자식 선택\n",
    "- 오른쪽 자식의 가장 왼쪽에 있는 Node를 선택\n",
    "- 해당 Node를 삭제할 Node의 Parent Node의 왼쪽 Branch가 가리키게 함\n",
    "- 해당 Node의 왼쪽 Branch가 삭제할 Node의 왼쪽 Child Node를 가리키게 함\n",
    "- 해당 Node의 오른쪽 Branch가 삭제할 Node의 오른쪽 Child Node를 가리키게 함\n",
    "- 만약 해당 Node가 오른쪽 Child Node를 가지고 있었을 경우에는, 해당 Node의 본래 Parent Node의 왼쪽 Branch가 해당 오른쪽 Child Node를 가리키게 함"
   ],
   "cell_type": "markdown",
   "metadata": {}
  },
  {
   "source": [
    "#### 5.5. 이진 탐색 트리 삭제 코드 구현과 분석"
   ],
   "cell_type": "markdown",
   "metadata": {}
  },
  {
   "source": [
    "#### 5.5.1 삭제할 Node 탐색\n",
    "* 삭제할 Node 가 없는 경우도 처리해야 함\n",
    "    * 이를 위해 삭제할 Node가 없는 경우는 False를 리턴하고, 함수를 종료 시킴"
   ],
   "cell_type": "markdown",
   "metadata": {}
  },
  {
   "cell_type": "code",
   "execution_count": 3,
   "metadata": {},
   "outputs": [
    {
     "output_type": "error",
     "ename": "IndentationError",
     "evalue": "unexpected indent (<ipython-input-3-70abccd9ef01>, line 2)",
     "traceback": [
      "\u001b[1;36m  File \u001b[1;32m\"<ipython-input-3-70abccd9ef01>\"\u001b[1;36m, line \u001b[1;32m2\u001b[0m\n\u001b[1;33m    searched = False\u001b[0m\n\u001b[1;37m    ^\u001b[0m\n\u001b[1;31mIndentationError\u001b[0m\u001b[1;31m:\u001b[0m unexpected indent\n"
     ]
    }
   ],
   "source": [
    "# def delete(self, value):\n",
    "    searched = False\n",
    "    self.current_node = self.head\n",
    "    self.parent = self.head\n",
    "    while self.current_node:\n",
    "        if self.current_node.value == value:\n",
    "            searched = True\n",
    "            break\n",
    "        elif value < self.current_node.value:\n",
    "            self.parent = self.current_node\n",
    "            self.current_node = self.current_node.left\n",
    "        else:\n",
    "            self.parent = self.current_node\n",
    "            self.current_node = self.current_node.right\n",
    "    \n",
    "    if searched == False:\n",
    "        return False\n",
    "    \n",
    "    ### 이후부터 Case들을 분리해서, 코드 작성"
   ]
  },
  {
   "source": [
    "\n",
    "#### 5.5.2. Case1: 삭제할 Node가 Leaf Node인 경우\n",
    "<img src=\"http://www.fun-coding.org/00_Images/tree_remove_leaf_code.png\" width=\"600\" />"
   ],
   "cell_type": "markdown",
   "metadata": {}
  },
  {
   "cell_type": "code",
   "execution_count": 4,
   "metadata": {},
   "outputs": [
    {
     "output_type": "error",
     "ename": "IndentationError",
     "evalue": "unexpected indent (<ipython-input-4-d3de3bc650b7>, line 2)",
     "traceback": [
      "\u001b[1;36m  File \u001b[1;32m\"<ipython-input-4-d3de3bc650b7>\"\u001b[1;36m, line \u001b[1;32m2\u001b[0m\n\u001b[1;33m    if self.current_node.left == None and self.current_node.right == None:\u001b[0m\n\u001b[1;37m    ^\u001b[0m\n\u001b[1;31mIndentationError\u001b[0m\u001b[1;31m:\u001b[0m unexpected indent\n"
     ]
    }
   ],
   "source": [
    "# self.current_node 가 삭제할 Node, self.parent는 삭제할 Node의 Parent Node인 상태\n",
    "    if self.current_node.left == None and self.current_node.right == None:\n",
    "        if value < self.parent.value:\n",
    "            self.parent.left = None\n",
    "        else:\n",
    "            self.parent.right = None\n",
    "        del self.current_node\n",
    "        "
   ]
  },
  {
   "source": [
    "#### 5.5.2. Case2: 삭제할 Node가 Child Node를 한 개 가지고 있을 경우\n",
    "<img src=\"http://www.fun-coding.org/00_Images/tree_remove_1child_code.png\" width=\"400\" />"
   ],
   "cell_type": "markdown",
   "metadata": {}
  },
  {
   "cell_type": "code",
   "execution_count": null,
   "metadata": {},
   "outputs": [],
   "source": [
    "    if self.current_node.left != None and self.current_node.right == None:\n",
    "        if value < self.parent.value:\n",
    "            self.parent.left = self.current_node.left\n",
    "        else:\n",
    "            self.parent.right = self.current_node.left\n",
    "    elif self.current_node.left == None and self.current_node.right != None:\n",
    "    \n",
    "        if value < self.parent.value:\n",
    "            self.parent.left = self.current_node.right\n",
    "\n",
    "        else:\n",
    "            self.parent.right = self.current_node.right\n"
   ]
  },
  {
   "source": [
    "#### 5.5.3. Case3-1: 삭제할 Node가 Child Node를 두 개 가지고 있을 경우 (삭제할 Node가 Parent Node 왼쪽에 있을 때)\n",
    "* 기본 사용 가능 전략\n",
    "  1. **삭제할 Node의 오른쪽 자식 중, 가장 작은 값을 삭제할 Node의 Parent Node가 가리키도록 한다.**\n",
    "  2. 삭제할 Node의 왼쪽 자식 중, 가장 큰 값을 삭제할 Node의 Parent Node가 가리키도록 한다.\n",
    "* 기본 사용 가능 전략 중, 1번 전략을 사용하여 코드를 구현하기로 함\n",
    "  - 경우의 수가 또다시 두가지가 있음\n",
    "    - **Case3-1-1:** 삭제할 Node가 Parent Node의 왼쪽에 있고, 삭제할 Node의 오른쪽 자식 중, 가장 작은 값을 가진 Node의 Child Node가 없을 때\n",
    "    - **Case3-1-2:** 삭제할 Node가 Parent Node의 왼쪽에 있고, 삭제할 Node의 오른쪽 자식 중, 가장 작은 값을 가진 Node의 오른쪽에 Child Node가 있을 때\n",
    "       - 가장 작은 값을 가진 Node의 Child Node가 왼쪽에 있을 경우는 없음, 왜냐하면 왼쪽 Node가 있다는 것은 해당 Node보다 더 작은 값을 가진 Node가 있다는 뜻이기 때문임\n",
    "\n",
    "\n",
    "<img src=\"http://www.fun-coding.org/00_Images/tree_remove_2child_code_left.png\" width=\"600\" />"
   ],
   "cell_type": "markdown",
   "metadata": {}
  },
  {
   "cell_type": "code",
   "execution_count": null,
   "metadata": {},
   "outputs": [],
   "source": [
    "## 자식 노드 오른쪽 왼쪽 둘다 있는 경우 ## case3 \n",
    "if self.current_node.left != None and self.current_node.right != None:\n",
    "    if value < self.parent.value:  # case 3-1\n",
    "        self.change_node = self.current_node.right\n",
    "        self.change_node_parent = self.current_node.right\n",
    "        while self.change_node.left != None:\n",
    "            self.change_node_parent = self.change_node\n",
    "            self.change_node = self.change_node.left\n",
    "        self.change_node_parent.left = None\n",
    "        if self.change_node.right != None:\n",
    "            self.change_node_parent.left = self.change_node.right\n",
    "        else:\n",
    "            self.change_node_parent.left = None\n",
    "        self.parent.left = self.change_node\n",
    "        self.change_node.right = self.current_node.right\n",
    "        self.change_node.left = self.change_node.left\n",
    "    \n",
    "\n"
   ]
  },
  {
   "source": [
    "#### 5.5.4. Case3-2: 삭제할 Node가 Child Node를 두 개 가지고 있을 경우 (삭제할 Node가 Parent Node 오른쪽에 있을 때)\n",
    "* 기본 사용 가능 전략\n",
    "  1. **삭제할 Node의 오른쪽 자식 중, 가장 작은 값을 삭제할 Node의 Parent Node가 가리키도록 한다.**\n",
    "  2. 삭제할 Node의 왼쪽 자식 중, 가장 큰 값을 삭제할 Node의 Parent Node가 가리키도록 한다.\n",
    "* 기본 사용 가능 전략 중, 1번 전략을 사용하여 코드를 구현하기로 함\n",
    "  - 경우의 수가 또다시 두가지가 있음\n",
    "    - **Case3-2-1:** 삭제할 Node가 Parent Node의 오른쪽에 있고, 삭제할 Node의 오른쪽 자식 중, 가장 작은 값을 가진 Node의 Child Node가 없을 때\n",
    "    - **Case3-2-2:** 삭제할 Node가 Parent Node의 오른쪽에 있고, 삭제할 Node의 오른쪽 자식 중, 가장 작은 값을 가진 Node의 오른쪽에 Child Node가 있을 때\n",
    "       - 가장 작은 값을 가진 Node의 Child Node가 왼쪽에 있을 경우는 없음, 왜냐하면 왼쪽 Node가 있다는 것은 해당 Node보다 더 작은 값을 가진 Node가 있다는 뜻이기 때문임\n",
    "\n",
    "\n",
    "<img src=\"http://www.fun-coding.org/00_Images/tree_remove_2child_code_right.png\" width=\"600\" />"
   ],
   "cell_type": "markdown",
   "metadata": {}
  },
  {
   "cell_type": "code",
   "execution_count": null,
   "metadata": {},
   "outputs": [],
   "source": [
    "    else:\r\n",
    "        self.change_node = self.current_node.right\r\n",
    "        self.change_node_parent = self.current_node.right\r\n",
    "\r\n",
    "        while self.change_node.left != None:\r\n",
    "            self.change_node_parent = self.change_node\r\n",
    "            self.change_node = self.change_node.left\r\n",
    "        if self.change_node.right != None:\r\n",
    "            self.change_node_parent.left = self.change_node.right\r\n",
    "        else:\r\n",
    "            self.change_node_parent.left = None\r\n",
    "        self.parent.right = self.change_node\r\n",
    "        self.change_node.left = self.current_node.left\r\n",
    "        self.change_node.right = self.current_node.right\r\n",
    "        \r\n"
   ]
  },
  {
   "source": [
    "#### 5.5.5. 파이썬 전체 코드 구현"
   ],
   "cell_type": "markdown",
   "metadata": {}
  },
  {
   "cell_type": "code",
   "execution_count": 3,
   "metadata": {},
   "outputs": [],
   "source": [
    "class Node:\n",
    "    def __init__(self, value):\n",
    "        self.value = value\n",
    "        self.left = None\n",
    "        self.right = None\n",
    "\n",
    "        \n",
    "class NodeMgmt:\n",
    "    def __init__(self, head):\n",
    "        self.head = head\n",
    "    \n",
    "    def insert(self, value):\n",
    "        self.current_node = self.head\n",
    "        while True:\n",
    "            if value < self.current_node.value:\n",
    "                if self.current_node.left != None:\n",
    "                    self.current_node = self.current_node.left\n",
    "                else:\n",
    "                    self.current_node.left = Node(value)\n",
    "                    break\n",
    "            else:\n",
    "                if self.current_node.right != None:\n",
    "                    self.current_node = self.current_node.right\n",
    "                else:\n",
    "                    self.current_node.right = Node(value)\n",
    "                    break\n",
    "    \n",
    "    def search(self, value):\n",
    "        self.current_node = self.head\n",
    "        while self.current_node:\n",
    "            if self.current_node.value == value:\n",
    "                return True\n",
    "            elif value < self.current_node.value:\n",
    "                self.current_node = self.current_node.left\n",
    "            else:\n",
    "                self.current_node = self.current_node.right\n",
    "        return False        \n",
    "    \n",
    "    def delete(self, value):\n",
    "        # 삭제할 노드 탐색\n",
    "        searched = False\n",
    "        self.current_node = self.head\n",
    "        self.parent = self.head\n",
    "        while self.current_node:\n",
    "            if self.current_node.value == value:\n",
    "                searched = True\n",
    "                break\n",
    "            elif value < self.current_node.value:\n",
    "                self.parent = self.current_node\n",
    "                self.current_node = self.current_node.left\n",
    "            else:\n",
    "                self.parent = self.current_node\n",
    "                self.current_node = self.current_node.right\n",
    "\n",
    "        if searched == False:\n",
    "            return False    \n",
    "\n",
    "        # case1\n",
    "        if  self.current_node.left == None and self.current_node.right == None:\n",
    "            if value < self.parent.value:\n",
    "                self.parent.left = None\n",
    "            else:\n",
    "                self.parent.right = None\n",
    "        \n",
    "        # case2\n",
    "        elif self.current_node.left != None and self.current_node.right == None:\n",
    "            if value < self.parent.value:\n",
    "                self.parent.left = self.current_node.left\n",
    "            else:\n",
    "                self.parent.right = self.current_node.left\n",
    "        elif self.current_node.left == None and self.current_node.right != None:\n",
    "            if value < self.parent.value:\n",
    "                self.parent.left = self.current_node.right\n",
    "            else:\n",
    "                self.parent.right = self.current_node.right        \n",
    "        \n",
    "        # case 3\n",
    "        elif self.current_node.left != None and self.current_node.right != None:\n",
    "            # case3-1\n",
    "            if value < self.parent.value:\n",
    "                self.change_node = self.current_node.right\n",
    "                self.change_node_parent = self.current_node.right\n",
    "                while self.change_node.left != None:\n",
    "                    self.change_node_parent = self.change_node\n",
    "                    self.change_node = self.change_node.left\n",
    "                if self.change_node.right != None:\n",
    "                    self.change_node_parent.left = self.change_node.right\n",
    "                else:\n",
    "                    self.change_node_parent.left = None\n",
    "                self.parent.left = self.change_node\n",
    "                self.change_node.right = self.current_node.right\n",
    "                self.change_node.left = self.change_node.left\n",
    "            # case 3-2\n",
    "            else:\n",
    "                self.change_node = self.current_node.right\n",
    "                self.change_node_parent = self.current_node.right\n",
    "                while self.change_node.left != None:\n",
    "                    self.change_node_parent = self.change_node\n",
    "                    self.change_node = self.change_node.left\n",
    "                if self.change_node.right != None:\n",
    "                    self.change_node_parent.left = self.change_node.right\n",
    "                else:\n",
    "                    self.change_node_parent.left = None\n",
    "                self.parent.right = self.change_node\n",
    "                self.change_node.right = self.current_node.right\n",
    "                self.change_node.left = self.current_node.left\n",
    "\n",
    "        return True"
   ]
  },
  {
   "cell_type": "code",
   "execution_count": null,
   "metadata": {},
   "outputs": [],
   "source": []
  },
  {
   "source": [
    "## 5.5.6. 파이썬 전체 코드 테스트\n",
    "* random 라이브러리 활용\n",
    "    * random.randint(첫번째 숫자, 마지막 숫자): 첫번째 숫자부터 마지막 숫자 사이에 있는 숫자를 랜덤하게 선택해서 리턴\n",
    "        * 예 : random.randint(0, 99) : 0에서 99까지 숫자중 특정 숫자를 랜덤하게 선택해서 리턴해줌"
   ],
   "cell_type": "markdown",
   "metadata": {}
  },
  {
   "cell_type": "code",
   "execution_count": 4,
   "metadata": {},
   "outputs": [],
   "source": [
    "# 0 ~ 999 숫장 중에서 임의로 100개를 추출해서, 이진 탐색 트리에 입력, 검색, 삭제\n",
    "import random\n",
    "\n",
    "bst_nums = set()\n",
    "while len(bst_nums) != 100:\n",
    "    bst_nums.add(random.randint(0,999))\n",
    "# print(bst_nums)\n",
    "\n",
    "# 선택된 100개의 숫자를 이진 탐색 트리에 입력, 임의로 루트노드는 500을 넣기로 함\n",
    "head = Node(500)\n",
    "binary_tree = NodeMgmt(head)\n",
    "for num in bst_nums:\n",
    "    binary_tree.insert(num)\n",
    "\n",
    "# 입력한 100개의 숫자 검색(검색 기능 확인)\n",
    "for num in bst_nums:\n",
    "    if binary_tree.search(num) == False:\n",
    "        print('search failed', num)\n",
    "# 입력한 100개의 숫자 중 10개의 숫자를 랜덤 선택\n",
    "delete_nums = set()\n",
    "bst_nums = list(bst_nums)\n",
    "while len(delete_nums) != 10:\n",
    "    delete_nums.add(bst_nums[random.randint(0, 99)])\n",
    "\n",
    "# 선택한 10개의 숫자를 삭제(삭제 기능 확인)\n",
    "for del_num in delete_nums:\n",
    "    if binary_tree.delete(del_num) == False:\n",
    "        print('delete failed', del_num)    \n"
   ]
  },
  {
   "cell_type": "code",
   "execution_count": 6,
   "metadata": {},
   "outputs": [
    {
     "output_type": "execute_result",
     "data": {
      "text/plain": [
       "100"
      ]
     },
     "metadata": {},
     "execution_count": 6
    }
   ],
   "source": [
    "len(bst_nums)"
   ]
  },
  {
   "source": [
    "### 6. 이진 탐색 트리의 시간 복잡도와 단점\n",
    "#### 6.1. 시간 복잡도 (탐색시)\n",
    "  - depth (트리의 높이) 를 h라고 표기한다면, O(h)\n",
    "  - n개의 노드를 가진다면, $h = log_2{n} $ 에 가까우므로, 시간 복잡도는 $ O(log{n}) $ \n",
    "     - 참고: 빅오 표기법에서 $log{n}$ 에서의 log의 밑은 10이 아니라, 2입니다.\n",
    "       - 한번 실행시마다, 50%의 실행할 수도 있는 명령을 제거한다는 의미. 즉 50%의 실행시간을 단축시킬 수 있다는 것을 의미함\n",
    "<img src=\"https://www.mathwarehouse.com/programming/images/binary-search-tree/binary-search-tree-sorted-array-animation.gif\" />\n",
    "\n",
    "(출처: https://www.mathwarehouse.com/programming/gifs/binary-search-tree.php#binary-search-tree-insertion-node)"
   ],
   "cell_type": "markdown",
   "metadata": {}
  },
  {
   "source": [
    "#### 6.2. 이진 탐색 트리 단점\n",
    "  - 평균 시간 복잡도는 $ O(log{n}) $ 이지만, \n",
    "    - 이는 트리가 균형잡혀 있을 때의 평균 시간복잡도이며,\n",
    "  - 다음 예와 같이 구성되어 있을 경우, 최악의 경우는 링크드 리스트등과 동일한 성능을 보여줌 ( $O(n)$ )\n",
    "<img src=\"http://www.fun-coding.org/00_Images/worstcase_bst.png\" width=\"300\" />"
   ],
   "cell_type": "markdown",
   "metadata": {}
  },
  {
   "cell_type": "code",
   "execution_count": null,
   "metadata": {},
   "outputs": [],
   "source": []
  }
 ]
}